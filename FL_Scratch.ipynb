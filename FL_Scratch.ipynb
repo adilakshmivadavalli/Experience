{
  "cells": [
    {
      "cell_type": "markdown",
      "metadata": {
        "id": "view-in-github",
        "colab_type": "text"
      },
      "source": [
        "<a href=\"https://colab.research.google.com/github/adilakshmivadavalli/Experience/blob/master/FL_Scratch.ipynb\" target=\"_parent\"><img src=\"https://colab.research.google.com/assets/colab-badge.svg\" alt=\"Open In Colab\"/></a>"
      ]
    },
    {
      "cell_type": "code",
      "execution_count": 1,
      "id": "2a189478",
      "metadata": {
        "id": "2a189478"
      },
      "outputs": [],
      "source": [
        "import numpy as np\n",
        "import pandas as pd\n",
        "import math\n",
        "import matplotlib.pyplot as plt"
      ]
    },
    {
      "cell_type": "code",
      "execution_count": 2,
      "id": "391c92c5",
      "metadata": {
        "id": "391c92c5"
      },
      "outputs": [],
      "source": [
        "Data = pd.read_csv(r\"/content/sample_data/data_banknote_authentication.csv\")\n",
        "Data = Data.to_numpy()"
      ]
    },
    {
      "cell_type": "code",
      "execution_count": 3,
      "id": "fac51de2",
      "metadata": {
        "id": "fac51de2"
      },
      "outputs": [],
      "source": [
        "m, n = Data.shape\n",
        "n0 = n - 1"
      ]
    },
    {
      "cell_type": "code",
      "execution_count": 4,
      "id": "86d605c2",
      "metadata": {
        "id": "86d605c2"
      },
      "outputs": [],
      "source": [
        "randseq = np.random.permutation(m)\n",
        "Data = Data[randseq[0:m], 0:n]"
      ]
    },
    {
      "cell_type": "code",
      "execution_count": 5,
      "id": "757d2eb5",
      "metadata": {
        "id": "757d2eb5"
      },
      "outputs": [],
      "source": [
        "trainval = math.floor(m*0.8)\n",
        "testval = m - trainval"
      ]
    },
    {
      "cell_type": "code",
      "execution_count": 6,
      "id": "c29f7f27",
      "metadata": {
        "id": "c29f7f27"
      },
      "outputs": [],
      "source": [
        "NumofClients = 10\n",
        "\n",
        "vec = np.random.randint(5, trainval, NumofClients)\n",
        "total = np.sum(vec)\n",
        "list_clients = (np.ceil((vec/total)*trainval)).astype(int)\n",
        "rem = trainval - np.sum(list_clients)\n",
        "list_clients[-1] = list_clients[-1] + rem"
      ]
    },
    {
      "cell_type": "code",
      "execution_count": 9,
      "id": "40d44185",
      "metadata": {
        "id": "40d44185"
      },
      "outputs": [],
      "source": [
        "for i in range(NumofClients):\n",
        "    if i == 0:\n",
        "        SplitData = Data[0:list_clients[0], :]\n",
        "    else:\n",
        "        SplitData = Data[np.sum(list_clients[0:i]):np.sum(list_clients[0:i])+list_clients[i], :]\n",
        "    pd.DataFrame(SplitData).to_csv(\"/content/sample_data/data_split/data_split_\"+str(i+1)+ \".csv\", header=False, index=False)"
      ]
    },
    {
      "cell_type": "code",
      "source": [
        "from google.colab import drive\n",
        "drive.mount('/content/drive')"
      ],
      "metadata": {
        "colab": {
          "base_uri": "https://localhost:8080/"
        },
        "id": "erMZI-CaBdMV",
        "outputId": "bef41644-5715-40fd-de98-eeace4df4824"
      },
      "id": "erMZI-CaBdMV",
      "execution_count": 10,
      "outputs": [
        {
          "output_type": "stream",
          "name": "stdout",
          "text": [
            "Mounted at /content/drive\n"
          ]
        }
      ]
    },
    {
      "cell_type": "code",
      "execution_count": 11,
      "id": "cd466757",
      "metadata": {
        "id": "cd466757"
      },
      "outputs": [],
      "source": [
        "X_test = Data[trainval:m+1, 0:n0].T\n",
        "y_test = Data[trainval:m+1, n0].reshape(1, m-trainval)"
      ]
    },
    {
      "cell_type": "code",
      "execution_count": 12,
      "id": "ed207f07",
      "metadata": {
        "id": "ed207f07"
      },
      "outputs": [],
      "source": [
        "def sigmoid(z):\n",
        "    s = 1/(1+np.exp(-z))\n",
        "    return s"
      ]
    },
    {
      "cell_type": "code",
      "execution_count": 13,
      "id": "7a7d43df",
      "metadata": {
        "id": "7a7d43df"
      },
      "outputs": [],
      "source": [
        "L = 4\n",
        "nx = np.array([n0, 5, 5, 1])"
      ]
    },
    {
      "cell_type": "code",
      "execution_count": 15,
      "id": "630d1121",
      "metadata": {
        "id": "630d1121"
      },
      "outputs": [],
      "source": [
        "# Server initializes the global model\n",
        "\n",
        "W1 = np.random.randn(nx[1],nx[0])\n",
        "b1 = np.random.randn(nx[1],1)\n",
        "\n",
        "W2 = np.random.randn(nx[2],nx[1])\n",
        "b2 = np.random.randn(nx[2],1)\n",
        "\n",
        "W3 = np.random.randn(nx[3],nx[2])\n",
        "b3 = np.random.randn(nx[3],1)\n",
        "\n",
        "# Saving the global model in csv files\n",
        "\n",
        "pd.DataFrame(W1).to_csv(\"/content/sample_data/avg_paramters/W1_avg.csv\", header=False, index=False)\n",
        "pd.DataFrame(W2).to_csv(\"/content/sample_data/avg_paramters/W2_avg.csv\", header=False, index=False)\n",
        "pd.DataFrame(W3).to_csv(\"/content/sample_data/avg_paramters/W3_avg.csv\", header=False, index=False)\n",
        "\n",
        "pd.DataFrame(b1).to_csv(\"/content/sample_data/avg_paramters/b1_avg.csv\", header=False, index=False)\n",
        "pd.DataFrame(b2).to_csv(\"/content/sample_data/avg_paramters/b2_avg.csv\", header=False, index=False)\n",
        "pd.DataFrame(b3).to_csv(\"/content/sample_data/avg_paramters/b3_avg.csv\", header=False, index=False)"
      ]
    },
    {
      "cell_type": "code",
      "execution_count": 19,
      "id": "55eecaff",
      "metadata": {
        "colab": {
          "base_uri": "https://localhost:8080/"
        },
        "id": "55eecaff",
        "outputId": "15ddd225-18b3-4887-e993-8476fa9a40dd"
      },
      "outputs": [
        {
          "output_type": "stream",
          "name": "stdout",
          "text": [
            "Round: 1, Loss: [0.16077286], Accuracy: [0.36363636]\n",
            "Round: 2, Loss: [0.15672733], Accuracy: [0.38545455]\n",
            "Round: 3, Loss: [0.15271974], Accuracy: [0.43272727]\n",
            "Round: 4, Loss: [0.14863349], Accuracy: [0.51636364]\n",
            "Round: 5, Loss: [0.14443287], Accuracy: [0.55636364]\n",
            "Round: 6, Loss: [0.14017159], Accuracy: [0.57454545]\n",
            "Round: 7, Loss: [0.13595251], Accuracy: [0.59272727]\n",
            "Round: 8, Loss: [0.13186282], Accuracy: [0.64727273]\n",
            "Round: 9, Loss: [0.12794979], Accuracy: [0.65818182]\n",
            "Round: 10, Loss: [0.12422963], Accuracy: [0.67272727]\n",
            "Round: 11, Loss: [0.12069811], Accuracy: [0.67636364]\n",
            "Round: 12, Loss: [0.11733829], Accuracy: [0.69090909]\n",
            "Round: 13, Loss: [0.11412749], Accuracy: [0.69818182]\n",
            "Round: 14, Loss: [0.11104262], Accuracy: [0.70545455]\n",
            "Round: 15, Loss: [0.1080631], Accuracy: [0.71272727]\n",
            "Round: 16, Loss: [0.10517178], Accuracy: [0.72363636]\n",
            "Round: 17, Loss: [0.10235455], Accuracy: [0.72363636]\n",
            "Round: 18, Loss: [0.09959928], Accuracy: [0.73090909]\n",
            "Round: 19, Loss: [0.09689496], Accuracy: [0.74545455]\n",
            "Round: 20, Loss: [0.09423132], Accuracy: [0.75636364]\n",
            "Round: 21, Loss: [0.09159906], Accuracy: [0.76363636]\n",
            "Round: 22, Loss: [0.08899061], Accuracy: [0.77090909]\n",
            "Round: 23, Loss: [0.08640084], Accuracy: [0.78545455]\n",
            "Round: 24, Loss: [0.08382745], Accuracy: [0.80727273]\n",
            "Round: 25, Loss: [0.08127089], Accuracy: [0.81818182]\n",
            "Round: 26, Loss: [0.0787336], Accuracy: [0.84727273]\n",
            "Round: 27, Loss: [0.07621878], Accuracy: [0.85454545]\n",
            "Round: 28, Loss: [0.07372917], Accuracy: [0.87636364]\n",
            "Round: 29, Loss: [0.07126618], Accuracy: [0.89090909]\n",
            "Round: 30, Loss: [0.06882983], Accuracy: [0.90545455]\n",
            "Round: 31, Loss: [0.0664197], Accuracy: [0.91636364]\n",
            "Round: 32, Loss: [0.06403679], Accuracy: [0.92363636]\n",
            "Round: 33, Loss: [0.06168589], Accuracy: [0.93090909]\n",
            "Round: 34, Loss: [0.05937706], Accuracy: [0.93818182]\n",
            "Round: 35, Loss: [0.05712474], Accuracy: [0.94181818]\n",
            "Round: 36, Loss: [0.05494429], Accuracy: [0.95272727]\n",
            "Round: 37, Loss: [0.0528487], Accuracy: [0.95272727]\n",
            "Round: 38, Loss: [0.05084717], Accuracy: [0.96]\n",
            "Round: 39, Loss: [0.04894532], Accuracy: [0.97454545]\n",
            "Round: 40, Loss: [0.04714569], Accuracy: [0.97818182]\n",
            "Round: 41, Loss: [0.04544817], Accuracy: [0.98181818]\n",
            "Round: 42, Loss: [0.04385032], Accuracy: [0.98181818]\n",
            "Round: 43, Loss: [0.0423478], Accuracy: [0.98909091]\n",
            "Round: 44, Loss: [0.04093493], Accuracy: [0.98909091]\n",
            "Round: 45, Loss: [0.03960542], Accuracy: [0.98909091]\n",
            "Round: 46, Loss: [0.03835278], Accuracy: [0.98909091]\n",
            "Round: 47, Loss: [0.03717078], Accuracy: [0.98909091]\n",
            "Round: 48, Loss: [0.03605359], Accuracy: [0.98909091]\n",
            "Round: 49, Loss: [0.0349959], Accuracy: [0.98909091]\n",
            "Round: 50, Loss: [0.03399291], Accuracy: [0.98909091]\n",
            "Round: 51, Loss: [0.0330403], Accuracy: [0.98909091]\n",
            "Round: 52, Loss: [0.03213421], Accuracy: [0.98909091]\n",
            "Round: 53, Loss: [0.03127117], Accuracy: [0.98909091]\n",
            "Round: 54, Loss: [0.03044806], Accuracy: [0.98909091]\n",
            "Round: 55, Loss: [0.02966208], Accuracy: [0.98909091]\n",
            "Round: 56, Loss: [0.02891069], Accuracy: [0.98909091]\n",
            "Round: 57, Loss: [0.02819159], Accuracy: [0.99272727]\n",
            "Round: 58, Loss: [0.02750269], Accuracy: [0.99272727]\n",
            "Round: 59, Loss: [0.02684209], Accuracy: [0.99272727]\n",
            "Round: 60, Loss: [0.02620805], Accuracy: [0.99272727]\n",
            "Round: 61, Loss: [0.025599], Accuracy: [0.99272727]\n",
            "Round: 62, Loss: [0.02501347], Accuracy: [0.99272727]\n",
            "Round: 63, Loss: [0.02445012], Accuracy: [0.99272727]\n",
            "Round: 64, Loss: [0.02390774], Accuracy: [0.99272727]\n",
            "Round: 65, Loss: [0.02338519], Accuracy: [0.99272727]\n",
            "Round: 66, Loss: [0.02288143], Accuracy: [0.99272727]\n",
            "Round: 67, Loss: [0.02239549], Accuracy: [0.99272727]\n",
            "Round: 68, Loss: [0.02192649], Accuracy: [0.99272727]\n",
            "Round: 69, Loss: [0.02147359], Accuracy: [0.99272727]\n",
            "Round: 70, Loss: [0.02103604], Accuracy: [0.99272727]\n",
            "Round: 71, Loss: [0.02061311], Accuracy: [0.99272727]\n",
            "Round: 72, Loss: [0.02020416], Accuracy: [0.99272727]\n",
            "Round: 73, Loss: [0.01980856], Accuracy: [0.99272727]\n",
            "Round: 74, Loss: [0.01942574], Accuracy: [0.99272727]\n",
            "Round: 75, Loss: [0.01905515], Accuracy: [0.99272727]\n",
            "Round: 76, Loss: [0.01869629], Accuracy: [0.99272727]\n",
            "Round: 77, Loss: [0.01834869], Accuracy: [0.99272727]\n",
            "Round: 78, Loss: [0.0180119], Accuracy: [0.99272727]\n",
            "Round: 79, Loss: [0.01768549], Accuracy: [0.99272727]\n",
            "Round: 80, Loss: [0.01736907], Accuracy: [0.99272727]\n",
            "Round: 81, Loss: [0.01706226], Accuracy: [0.99272727]\n",
            "Round: 82, Loss: [0.0167647], Accuracy: [0.99272727]\n",
            "Round: 83, Loss: [0.01647603], Accuracy: [0.99272727]\n",
            "Round: 84, Loss: [0.01619595], Accuracy: [0.99272727]\n",
            "Round: 85, Loss: [0.01592413], Accuracy: [0.99272727]\n",
            "Round: 86, Loss: [0.01566028], Accuracy: [0.99272727]\n",
            "Round: 87, Loss: [0.0154041], Accuracy: [0.99272727]\n",
            "Round: 88, Loss: [0.01515534], Accuracy: [0.99272727]\n",
            "Round: 89, Loss: [0.01491371], Accuracy: [0.99272727]\n",
            "Round: 90, Loss: [0.01467897], Accuracy: [0.99636364]\n",
            "Round: 91, Loss: [0.01445088], Accuracy: [0.99636364]\n",
            "Round: 92, Loss: [0.0142292], Accuracy: [0.99636364]\n",
            "Round: 93, Loss: [0.0140137], Accuracy: [0.99636364]\n",
            "Round: 94, Loss: [0.01380418], Accuracy: [0.99636364]\n",
            "Round: 95, Loss: [0.01360041], Accuracy: [0.99636364]\n",
            "Round: 96, Loss: [0.01340221], Accuracy: [0.99636364]\n",
            "Round: 97, Loss: [0.01320937], Accuracy: [0.99636364]\n",
            "Round: 98, Loss: [0.01302171], Accuracy: [0.99636364]\n",
            "Round: 99, Loss: [0.01283906], Accuracy: [0.99636364]\n",
            "Round: 100, Loss: [0.01266123], Accuracy: [0.99636364]\n"
          ]
        }
      ],
      "source": [
        "learning_rate = 0.05\n",
        "iterations = 10\n",
        "rounds = 100\n",
        "\n",
        "Avg_Loss = np.zeros((rounds,1))\n",
        "Accuracy = np.zeros((rounds,1))\n",
        "\n",
        "for r in range(rounds):\n",
        "\n",
        "    for client in range(NumofClients):\n",
        "\n",
        "\n",
        "        Data_X = pd.read_csv(\"/content/sample_data/data_split/data_split_\"+str(client+1)+\".csv\", header=None)\n",
        "        Data_X = Data_X.to_numpy()\n",
        "\n",
        "        m_X, n_X = Data_X.shape\n",
        "        n0 = n_X - 1\n",
        "\n",
        "        X_train = Data_X[:, 0:n0].T\n",
        "        y_train = Data_X[:, n0].reshape(1, m_X)\n",
        "\n",
        "        # Each client uses the global model received from\n",
        "        # the server in the first iteration\n",
        "        W1 = pd.read_csv(\"/content/sample_data/avg_paramters/W1_avg.csv\", header=None)\n",
        "        W1 = W1.to_numpy()\n",
        "\n",
        "        W2 = pd.read_csv(\"/content/sample_data/avg_paramters/W2_avg.csv\", header=None)\n",
        "        W2 = W2.to_numpy()\n",
        "\n",
        "        W3 = pd.read_csv(\"/content/sample_data/avg_paramters/W3_avg.csv\", header=None)\n",
        "        W3 = W3.to_numpy()\n",
        "\n",
        "        b1 = pd.read_csv(\"/content/sample_data/avg_paramters/b1_avg.csv\", header=None)\n",
        "        b1 = b1.to_numpy()\n",
        "\n",
        "        b2 = pd.read_csv(\"/content/sample_data/avg_paramters/b2_avg.csv\", header=None)\n",
        "        b2 = b2.to_numpy()\n",
        "\n",
        "        b3 = pd.read_csv(\"/content/sample_data/avg_paramters/b3_avg.csv\", header=None)\n",
        "        b3 = b3.to_numpy()\n",
        "\n",
        "        J = np.zeros((iterations,1))\n",
        "\n",
        "        for i in range(iterations):\n",
        "\n",
        "            # Forward propagation\n",
        "            Z1 = np.dot(W1, X_train) + b1\n",
        "            A1 = sigmoid(Z1)\n",
        "\n",
        "            Z2 = np.dot(W2, A1) + b2\n",
        "            A2 = sigmoid(Z2)\n",
        "\n",
        "            Z3 = np.dot(W3, A2) + b3\n",
        "            A3 = sigmoid(Z3)\n",
        "\n",
        "            # J[i] = (-1/m_X)*np.sum(y_train*np.log(A3) + (1-y_train)*np.log(1-A3))\n",
        "\n",
        "            # Backward propagation\n",
        "            dZ3 = A3-y_train\n",
        "            dW3 = (1/m_X)*np.dot(dZ3, A2.T)\n",
        "            db3 = (1/m_X)*np.sum(dZ3, axis = 1, keepdims = True)\n",
        "\n",
        "            dA2 = A2*(1-A2)\n",
        "            dZ2 = np.dot(W3.T, dZ3)*dA2\n",
        "            dW2 = (1/m_X)*np.dot(dZ2, A1.T)\n",
        "            db2 = (1/m_X)*np.sum(dZ2, axis = 1, keepdims = True)\n",
        "\n",
        "            dA1 = A1*(1-A1)\n",
        "            dZ1 = np.dot(W2.T, dZ2)*dA1\n",
        "            dW1 = (1/m_X)*np.dot(dZ1, X_train.T)\n",
        "            db1 = (1/m_X)*np.sum(dZ1, axis = 1, keepdims = True)\n",
        "\n",
        "            W1 = W1 - learning_rate*dW1\n",
        "            b1 = b1 - learning_rate*db1\n",
        "\n",
        "            W2 = W2 - learning_rate*dW2\n",
        "            b2 = b2 - learning_rate*db2\n",
        "\n",
        "            W3 = W3 - learning_rate*dW3\n",
        "            b3 = b3 - learning_rate*db3\n",
        "\n",
        "        # Each client sends the local models to\n",
        "        # the server\n",
        "        pd.DataFrame(W1*m_X).to_csv(\"/content/sample_data/ind_parameters/W1_\"+str(client+1)+\".csv\", header=False, index=False)\n",
        "        pd.DataFrame(W2*m_X).to_csv(\"/content/sample_data/ind_parameters/W2_\"+str(client+1)+\".csv\", header=False, index=False)\n",
        "        pd.DataFrame(W3*m_X).to_csv(\"/content/sample_data/ind_parameters/W3_\"+str(client+1)+\".csv\", header=False, index=False)\n",
        "\n",
        "        pd.DataFrame(b1*m_X).to_csv(\"/content/sample_data/ind_parameters/b1_\"+str(client+1)+\".csv\", header=False, index=False)\n",
        "        pd.DataFrame(b2*m_X).to_csv(\"/content/sample_data/ind_parameters/b2_\"+str(client+1)+\".csv\", header=False, index=False)\n",
        "        pd.DataFrame(b3*m_X).to_csv(\"/content/sample_data/ind_parameters/b3_\"+str(client+1)+\".csv\", header=False, index=False)\n",
        "\n",
        "    # The server aggregate/average the local models\n",
        "\n",
        "    W1 = np.zeros([nx[1],nx[0]])\n",
        "    b1 = np.zeros([nx[1],1])\n",
        "\n",
        "    W2 = np.zeros([nx[2],nx[1]])\n",
        "    b2 = np.zeros([nx[2],1])\n",
        "\n",
        "    W3 = np.zeros([nx[3],nx[2]])\n",
        "    b3 = np.zeros([nx[3],1])\n",
        "\n",
        "    for client in range(NumofClients):\n",
        "        W1 = W1 + pd.read_csv(\"/content/sample_data/ind_parameters/W1_\"+str(client+1)+\".csv\", header=None)\n",
        "        W2 = W2 + pd.read_csv(\"/content/sample_data/ind_parameters/W2_\"+str(client+1)+\".csv\", header=None)\n",
        "        W3 = W3 + pd.read_csv(\"/content/sample_data/ind_parameters/W3_\"+str(client+1)+\".csv\", header=None)\n",
        "\n",
        "        b1 = b1 + pd.read_csv(\"/content/sample_data/ind_parameters/b1_\"+str(client+1)+\".csv\", header=None)\n",
        "        b2 = b2 + pd.read_csv(\"/content/sample_data/ind_parameters/b2_\"+str(client+1)+\".csv\", header=None)\n",
        "        b3 = b3 + pd.read_csv(\"/content/sample_data/ind_parameters/b3_\"+str(client+1)+\".csv\", header=None)\n",
        "\n",
        "    W1 = W1.to_numpy()\n",
        "    W2 = W2.to_numpy()\n",
        "    W3 = W3.to_numpy()\n",
        "\n",
        "    b1 = b1.to_numpy()\n",
        "    b2 = b2.to_numpy()\n",
        "    b3 = b3.to_numpy()\n",
        "\n",
        "    W1_avg = W1/trainval\n",
        "    W2_avg = W2/trainval\n",
        "    W3_avg = W3/trainval\n",
        "\n",
        "    b1_avg = b1/trainval\n",
        "    b2_avg = b2/trainval\n",
        "    b3_avg = b3/trainval\n",
        "\n",
        "    pd.DataFrame(W1_avg).to_csv(\"/content/sample_data/avg_paramters/W1_avg.csv\", header=False, index=False)\n",
        "    pd.DataFrame(W2_avg).to_csv(\"/content/sample_data/avg_paramters/W2_avg.csv\", header=False, index=False)\n",
        "    pd.DataFrame(W3_avg).to_csv(\"/content/sample_data/avg_paramters/W3_avg.csv\", header=False, index=False)\n",
        "\n",
        "    pd.DataFrame(b1_avg).to_csv(\"/content/sample_data/avg_paramters/b1_avg.csv\", header=False, index=False)\n",
        "    pd.DataFrame(b2_avg).to_csv(\"/content/sample_data/avg_paramters/b2_avg.csv\", header=False, index=False)\n",
        "    pd.DataFrame(b3_avg).to_csv(\"/content/sample_data/avg_paramters/b3_avg.csv\", header=False, index=False)\n",
        "\n",
        "    # Evaluation of the global model on\n",
        "    # the testing dataset\n",
        "    Z1 = np.dot(W1_avg, X_test) + b1_avg\n",
        "    A1 = sigmoid(Z1)\n",
        "\n",
        "    Z2 = np.dot(W2_avg, A1) + b2_avg\n",
        "    A2 = sigmoid(Z2)\n",
        "\n",
        "    Z3 = np.dot(W3_avg, A2) + b3_avg\n",
        "    A3 = sigmoid(Z3)\n",
        "\n",
        "    Avg_Loss[r] = (-1/m)*np.sum(y_test*np.log(A3) + (1-y_test)*np.log(1-A3))\n",
        "\n",
        "    y_pred = A3 > 0.5\n",
        "    Accuracy[r] = 1 - np.sum(abs(y_pred - y_test))/testval\n",
        "\n",
        "    print(f\"Round: {r+1}, Loss: {Avg_Loss[r]}, Accuracy: {Accuracy[r]}\")\n"
      ]
    },
    {
      "cell_type": "code",
      "execution_count": 20,
      "id": "4d79469d",
      "metadata": {
        "colab": {
          "base_uri": "https://localhost:8080/",
          "height": 464
        },
        "id": "4d79469d",
        "outputId": "d4a977b7-ef63-4aaf-96c6-74688bd1f54a"
      },
      "outputs": [
        {
          "output_type": "display_data",
          "data": {
            "text/plain": [
              "<Figure size 640x480 with 2 Axes>"
            ],
            "image/png": "[encoded data removed]"
          },
          "metadata": {}
        }
      ],
      "source": [
        "plt.subplot(1, 2, 1)\n",
        "plt.plot(Avg_Loss)\n",
        "plt.grid()\n",
        "plt.xlabel('iterations')\n",
        "plt.ylabel('Loss')\n",
        "\n",
        "plt.subplot(1, 2, 2)\n",
        "plt.plot(Accuracy)\n",
        "plt.grid()\n",
        "plt.xlabel('iterations')\n",
        "plt.ylabel('Accuracy')\n",
        "\n",
        "plt.subplots_adjust(left=0,\n",
        "                    bottom=0.1,\n",
        "                    right=1.5,\n",
        "                    top=0.9,\n",
        "                    wspace=0.2,\n",
        "                    hspace=0.2)\n",
        "\n",
        "plt.show()"
      ]
    },
    {
      "cell_type": "code",
      "execution_count": null,
      "id": "1fd0300f",
      "metadata": {
        "id": "1fd0300f"
      },
      "outputs": [],
      "source": []
    }
  ],
  "metadata": {
    "kernelspec": {
      "display_name": "Python 3",
      "language": "python",
      "name": "python3"
    },
    "language_info": {
      "codemirror_mode": {
        "name": "ipython",
        "version": 3
      },
      "file_extension": ".py",
      "mimetype": "text/x-python",
      "name": "python",
      "nbconvert_exporter": "python",
      "pygments_lexer": "ipython3",
      "version": "3.12.5"
    },
    "vscode": {
      "interpreter": {
        "hash": "aee8b7b246df8f9039afb4144a1f6fd8d2ca17a180786b69acc140d282b71a49"
      }
    },
    "colab": {
      "provenance": [],
      "include_colab_link": true
    }
  },
  "nbformat": 4,
  "nbformat_minor": 5
}