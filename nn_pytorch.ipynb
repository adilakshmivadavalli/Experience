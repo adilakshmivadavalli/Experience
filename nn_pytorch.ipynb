{
  "cells": [
    {
      "cell_type": "markdown",
      "metadata": {
        "id": "view-in-github",
        "colab_type": "text"
      },
      "source": [
        "<a href=\"https://colab.research.google.com/github/adilakshmivadavalli/Experience/blob/master/nn_pytorch.ipynb\" target=\"_parent\"><img src=\"https://colab.research.google.com/assets/colab-badge.svg\" alt=\"Open In Colab\"/></a>"
      ]
    },
    {
      "cell_type": "code",
      "execution_count": null,
      "metadata": {
        "id": "tudedBcIusrk"
      },
      "outputs": [],
      "source": [
        "import torch\n",
        "import torch.nn as nn\n",
        "import torch.optim as optim\n",
        "\n",
        "import numpy as np\n",
        "import pandas\n",
        "import math\n",
        "import matplotlib.pyplot as plt"
      ]
    },
    {
      "cell_type": "code",
      "execution_count": null,
      "metadata": {
        "id": "_APHeGehusrk"
      },
      "outputs": [],
      "source": [
        "Data = pandas.read_csv(r\"/content/sample_data/data_banknote_authentication.csv\")\n",
        "Data = Data.to_numpy()"
      ]
    },
    {
      "cell_type": "code",
      "execution_count": null,
      "metadata": {
        "id": "C_jFwJSyusrl"
      },
      "outputs": [],
      "source": [
        "m, n = Data.shape\n",
        "n0 = n - 1"
      ]
    },
    {
      "cell_type": "code",
      "execution_count": null,
      "metadata": {
        "id": "m0xsmLgwusrl"
      },
      "outputs": [],
      "source": [
        "randseq = np.random.permutation(m)\n",
        "Data = Data[randseq[0:m], 0:n]"
      ]
    },
    {
      "cell_type": "code",
      "execution_count": null,
      "metadata": {
        "id": "2FzJAKUWusrl"
      },
      "outputs": [],
      "source": [
        "train_num = math.floor(m*0.8)\n",
        "test_num = m - train_num"
      ]
    },
    {
      "cell_type": "code",
      "execution_count": null,
      "metadata": {
        "id": "W7mWoaTEusrl"
      },
      "outputs": [],
      "source": [
        "x_train = torch.tensor(Data[:train_num, :n0], dtype=torch.float32)\n",
        "y_train = torch.tensor(Data[:train_num, n0], dtype=torch.float32).unsqueeze(1)\n",
        "\n",
        "x_test = torch.tensor(Data[train_num:, :n0], dtype=torch.float32)\n",
        "y_test = torch.tensor(Data[train_num:, n0], dtype=torch.float32).unsqueeze(1)"
      ]
    },
    {
      "cell_type": "code",
      "execution_count": null,
      "metadata": {
        "id": "tzxLDtwpusrm"
      },
      "outputs": [],
      "source": [
        "class TabularNN(nn.Module):\n",
        "    def __init__(self):\n",
        "        super(TabularNN, self).__init__()\n",
        "        # Define layers in __init__\n",
        "        self.fc1 = nn.Linear(4, 5)\n",
        "        self.fc2 = nn.Linear(5, 5)\n",
        "        self.fc3 = nn.Linear(5, 1)\n",
        "\n",
        "    def forward(self, x):\n",
        "        # First hidden layer: Apply linear transformation, then apply activation\n",
        "        x = self.fc1(x)\n",
        "        x = torch.sigmoid(x)\n",
        "\n",
        "        # Second hidden layer: Apply linear transformation, then apply activation\n",
        "        x = self.fc2(x)\n",
        "        x = torch.sigmoid(x)\n",
        "\n",
        "        # Output layer: Apply linear transformation, then apply activation\n",
        "        x = self.fc3(x)\n",
        "        x = torch.sigmoid(x)\n",
        "\n",
        "        return x"
      ]
    },
    {
      "cell_type": "code",
      "execution_count": null,
      "metadata": {
        "id": "kTn-vPDNusrm"
      },
      "outputs": [],
      "source": [
        "# Initialize the model, loss function, and optimizer\n",
        "model = TabularNN()\n",
        "criterion = nn.BCELoss()  # Binary cross entropy for binary classification\n",
        "optimizer = optim.Adam(model.parameters(), lr=0.01)"
      ]
    },
    {
      "cell_type": "code",
      "execution_count": null,
      "metadata": {
        "colab": {
          "base_uri": "https://localhost:8080/"
        },
        "id": "pReqEA-uusrm",
        "outputId": "6d8b64fa-97c0-4434-a781-c99f9a3e3711"
      },
      "outputs": [
        {
          "output_type": "stream",
          "name": "stderr",
          "text": [
            "/tmp/ipython-input-3649151082.py:13: DeprecationWarning: __array__ implementation doesn't accept a copy keyword, so passing copy=False failed. __array__ must implement 'dtype' and 'copy' keyword arguments.\n",
            "  train_accuracy[epoch] = 1 - torch.sum(abs(pred_train - y_train))/train_num\n"
          ]
        },
        {
          "output_type": "stream",
          "name": "stdout",
          "text": [
            "Epoch: 1, Loss: [0.69212025], Accuracy: [0.55150414]\n",
            "Epoch: 2, Loss: [0.69042981], Accuracy: [0.55150414]\n",
            "Epoch: 3, Loss: [0.68911159], Accuracy: [0.55150414]\n",
            "Epoch: 4, Loss: [0.68814385], Accuracy: [0.55150414]\n",
            "Epoch: 5, Loss: [0.68745005], Accuracy: [0.55150414]\n",
            "Epoch: 6, Loss: [0.68689841], Accuracy: [0.55150414]\n",
            "Epoch: 7, Loss: [0.68635446], Accuracy: [0.55150414]\n",
            "Epoch: 8, Loss: [0.68573982], Accuracy: [0.55150414]\n",
            "Epoch: 9, Loss: [0.68504089], Accuracy: [0.55150414]\n",
            "Epoch: 10, Loss: [0.68428165], Accuracy: [0.55150414]\n",
            "Epoch: 11, Loss: [0.683496], Accuracy: [0.55150414]\n",
            "Epoch: 12, Loss: [0.68270755], Accuracy: [0.55150414]\n",
            "Epoch: 13, Loss: [0.68192053], Accuracy: [0.55150414]\n",
            "Epoch: 14, Loss: [0.68111986], Accuracy: [0.55150414]\n",
            "Epoch: 15, Loss: [0.68028009], Accuracy: [0.55150414]\n",
            "Epoch: 16, Loss: [0.67937434], Accuracy: [0.55150414]\n",
            "Epoch: 17, Loss: [0.67837948], Accuracy: [0.55150414]\n",
            "Epoch: 18, Loss: [0.67727894], Accuracy: [0.55150414]\n",
            "Epoch: 19, Loss: [0.67606211], Accuracy: [0.55150414]\n",
            "Epoch: 20, Loss: [0.67472267], Accuracy: [0.55150414]\n",
            "Epoch: 21, Loss: [0.67325717], Accuracy: [0.55150414]\n",
            "Epoch: 22, Loss: [0.67166275], Accuracy: [0.55150414]\n",
            "Epoch: 23, Loss: [0.66993564], Accuracy: [0.55150414]\n",
            "Epoch: 24, Loss: [0.66806996], Accuracy: [0.55150414]\n",
            "Epoch: 25, Loss: [0.66605717], Accuracy: [0.55150414]\n",
            "Epoch: 26, Loss: [0.66388565], Accuracy: [0.55150414]\n",
            "Epoch: 27, Loss: [0.66154176], Accuracy: [0.55150414]\n",
            "Epoch: 28, Loss: [0.65900975], Accuracy: [0.55150414]\n",
            "Epoch: 29, Loss: [0.65627384], Accuracy: [0.55150414]\n",
            "Epoch: 30, Loss: [0.65331858], Accuracy: [0.55150414]\n",
            "Epoch: 31, Loss: [0.65012902], Accuracy: [0.55150414]\n",
            "Epoch: 32, Loss: [0.64669067], Accuracy: [0.55150414]\n",
            "Epoch: 33, Loss: [0.64298856], Accuracy: [0.55150414]\n",
            "Epoch: 34, Loss: [0.63900709], Accuracy: [0.55150414]\n",
            "Epoch: 35, Loss: [0.63472861], Accuracy: [0.55150414]\n",
            "Epoch: 36, Loss: [0.63013518], Accuracy: [0.579763]\n",
            "Epoch: 37, Loss: [0.62520778], Accuracy: [0.68641746]\n",
            "Epoch: 38, Loss: [0.61992818], Accuracy: [0.74475843]\n",
            "Epoch: 39, Loss: [0.61427742], Accuracy: [0.78486782]\n",
            "Epoch: 40, Loss: [0.60823578], Accuracy: [0.80948043]\n",
            "Epoch: 41, Loss: [0.60178173], Accuracy: [0.82771194]\n",
            "Epoch: 42, Loss: [0.59489334], Accuracy: [0.84503192]\n",
            "Epoch: 43, Loss: [0.58755034], Accuracy: [0.85597086]\n",
            "Epoch: 44, Loss: [0.5797388], Accuracy: [0.87329078]\n",
            "Epoch: 45, Loss: [0.57145703], Accuracy: [0.88605285]\n",
            "Epoch: 46, Loss: [0.56272358], Accuracy: [0.8960802]\n",
            "Epoch: 47, Loss: [0.55358189], Accuracy: [0.90337282]\n",
            "Epoch: 48, Loss: [0.54409689], Accuracy: [0.90975386]\n",
            "Epoch: 49, Loss: [0.53433466], Accuracy: [0.91340017]\n",
            "Epoch: 50, Loss: [0.52433449], Accuracy: [0.91978121]\n",
            "Epoch: 51, Loss: [0.51409203], Accuracy: [0.92251593]\n",
            "Epoch: 52, Loss: [0.50357264], Accuracy: [0.92616224]\n",
            "Epoch: 53, Loss: [0.49274677], Accuracy: [0.93163174]\n",
            "Epoch: 54, Loss: [0.48161146], Accuracy: [0.93436646]\n",
            "Epoch: 55, Loss: [0.47018918], Accuracy: [0.93892431]\n",
            "Epoch: 56, Loss: [0.45852059], Accuracy: [0.9407475]\n",
            "Epoch: 57, Loss: [0.44665834], Accuracy: [0.94257063]\n",
            "Epoch: 58, Loss: [0.4346635], Accuracy: [0.94530535]\n",
            "Epoch: 59, Loss: [0.42260209], Accuracy: [0.94986326]\n",
            "Epoch: 60, Loss: [0.41053939], Accuracy: [0.95077485]\n",
            "Epoch: 61, Loss: [0.39853445], Accuracy: [0.95259798]\n",
            "Epoch: 62, Loss: [0.3866339], Accuracy: [0.95259798]\n",
            "Epoch: 63, Loss: [0.37486976], Accuracy: [0.95259798]\n",
            "Epoch: 64, Loss: [0.36326131], Accuracy: [0.95624429]\n",
            "Epoch: 65, Loss: [0.35182095], Accuracy: [0.95806748]\n",
            "Epoch: 66, Loss: [0.3405599], Accuracy: [0.96171379]\n",
            "Epoch: 67, Loss: [0.32949254], Accuracy: [0.96262532]\n",
            "Epoch: 68, Loss: [0.3186366], Accuracy: [0.96627164]\n",
            "Epoch: 69, Loss: [0.30801287], Accuracy: [0.96809483]\n",
            "Epoch: 70, Loss: [0.29764315], Accuracy: [0.96991795]\n",
            "Epoch: 71, Loss: [0.28754792], Accuracy: [0.96991795]\n",
            "Epoch: 72, Loss: [0.27774507], Accuracy: [0.97082955]\n",
            "Epoch: 73, Loss: [0.26824862], Accuracy: [0.97174114]\n",
            "Epoch: 74, Loss: [0.25906786], Accuracy: [0.97356427]\n",
            "Epoch: 75, Loss: [0.25020751], Accuracy: [0.97629899]\n",
            "Epoch: 76, Loss: [0.241668], Accuracy: [0.97629899]\n",
            "Epoch: 77, Loss: [0.23344667], Accuracy: [0.97812217]\n",
            "Epoch: 78, Loss: [0.22553852], Accuracy: [0.97903371]\n",
            "Epoch: 79, Loss: [0.21793741], Accuracy: [0.9799453]\n",
            "Epoch: 80, Loss: [0.21063673], Accuracy: [0.98176849]\n",
            "Epoch: 81, Loss: [0.20362987], Accuracy: [0.98176849]\n",
            "Epoch: 82, Loss: [0.19691038], Accuracy: [0.98176849]\n",
            "Epoch: 83, Loss: [0.19047201], Accuracy: [0.98359162]\n",
            "Epoch: 84, Loss: [0.18430825], Accuracy: [0.98450321]\n",
            "Epoch: 85, Loss: [0.17841212], Accuracy: [0.98632634]\n",
            "Epoch: 86, Loss: [0.17277597], Accuracy: [0.98723793]\n",
            "Epoch: 87, Loss: [0.16739132], Accuracy: [0.98723793]\n",
            "Epoch: 88, Loss: [0.162249], Accuracy: [0.98723793]\n",
            "Epoch: 89, Loss: [0.15733929], Accuracy: [0.98814952]\n",
            "Epoch: 90, Loss: [0.15265216], Accuracy: [0.98814952]\n",
            "Epoch: 91, Loss: [0.14817755], Accuracy: [0.98906106]\n",
            "Epoch: 92, Loss: [0.1439054], Accuracy: [0.98906106]\n",
            "Epoch: 93, Loss: [0.13982616], Accuracy: [0.98906106]\n",
            "Epoch: 94, Loss: [0.13593052], Accuracy: [0.98997265]\n",
            "Epoch: 95, Loss: [0.13220982], Accuracy: [0.98997265]\n",
            "Epoch: 96, Loss: [0.12865587], Accuracy: [0.98997265]\n",
            "Epoch: 97, Loss: [0.12526099], Accuracy: [0.98997265]\n",
            "Epoch: 98, Loss: [0.12201802], Accuracy: [0.98997265]\n",
            "Epoch: 99, Loss: [0.11892004], Accuracy: [0.98997265]\n",
            "Epoch: 100, Loss: [0.11596033], Accuracy: [0.98997265]\n",
            "Epoch: 101, Loss: [0.11313248], Accuracy: [0.98997265]\n",
            "Epoch: 102, Loss: [0.11043015], Accuracy: [0.98997265]\n",
            "Epoch: 103, Loss: [0.10784727], Accuracy: [0.98997265]\n",
            "Epoch: 104, Loss: [0.10537798], Accuracy: [0.98997265]\n",
            "Epoch: 105, Loss: [0.1030167], Accuracy: [0.98997265]\n",
            "Epoch: 106, Loss: [0.10075818], Accuracy: [0.98997265]\n",
            "Epoch: 107, Loss: [0.09859738], Accuracy: [0.99088424]\n",
            "Epoch: 108, Loss: [0.09652954], Accuracy: [0.99088424]\n",
            "Epoch: 109, Loss: [0.09455002], Accuracy: [0.99088424]\n",
            "Epoch: 110, Loss: [0.09265439], Accuracy: [0.99088424]\n",
            "Epoch: 111, Loss: [0.09083831], Accuracy: [0.99088424]\n",
            "Epoch: 112, Loss: [0.08909761], Accuracy: [0.99088424]\n",
            "Epoch: 113, Loss: [0.08742826], Accuracy: [0.99088424]\n",
            "Epoch: 114, Loss: [0.08582636], Accuracy: [0.99088424]\n",
            "Epoch: 115, Loss: [0.0842883], Accuracy: [0.99088424]\n",
            "Epoch: 116, Loss: [0.08281065], Accuracy: [0.99088424]\n",
            "Epoch: 117, Loss: [0.08139022], Accuracy: [0.99088424]\n",
            "Epoch: 118, Loss: [0.08002413], Accuracy: [0.99088424]\n",
            "Epoch: 119, Loss: [0.07870968], Accuracy: [0.99088424]\n",
            "Epoch: 120, Loss: [0.07744435], Accuracy: [0.99088424]\n",
            "Epoch: 121, Loss: [0.07622581], Accuracy: [0.99179578]\n",
            "Epoch: 122, Loss: [0.0750518], Accuracy: [0.99179578]\n",
            "Epoch: 123, Loss: [0.07392021], Accuracy: [0.99179578]\n",
            "Epoch: 124, Loss: [0.07282893], Accuracy: [0.99179578]\n",
            "Epoch: 125, Loss: [0.07177598], Accuracy: [0.99179578]\n",
            "Epoch: 126, Loss: [0.07075948], Accuracy: [0.99179578]\n",
            "Epoch: 127, Loss: [0.06977756], Accuracy: [0.99179578]\n",
            "Epoch: 128, Loss: [0.06882849], Accuracy: [0.99179578]\n",
            "Epoch: 129, Loss: [0.06791066], Accuracy: [0.99179578]\n",
            "Epoch: 130, Loss: [0.06702255], Accuracy: [0.99179578]\n",
            "Epoch: 131, Loss: [0.06616272], Accuracy: [0.99179578]\n",
            "Epoch: 132, Loss: [0.06532986], Accuracy: [0.99179578]\n",
            "Epoch: 133, Loss: [0.06452274], Accuracy: [0.99179578]\n",
            "Epoch: 134, Loss: [0.0637402], Accuracy: [0.99179578]\n",
            "Epoch: 135, Loss: [0.06298116], Accuracy: [0.99179578]\n",
            "Epoch: 136, Loss: [0.06224456], Accuracy: [0.99179578]\n",
            "Epoch: 137, Loss: [0.06152941], Accuracy: [0.99179578]\n",
            "Epoch: 138, Loss: [0.0608348], Accuracy: [0.99179578]\n",
            "Epoch: 139, Loss: [0.06015982], Accuracy: [0.99179578]\n",
            "Epoch: 140, Loss: [0.05950364], Accuracy: [0.99179578]\n",
            "Epoch: 141, Loss: [0.05886547], Accuracy: [0.99179578]\n",
            "Epoch: 142, Loss: [0.05824454], Accuracy: [0.99179578]\n",
            "Epoch: 143, Loss: [0.05764015], Accuracy: [0.99179578]\n",
            "Epoch: 144, Loss: [0.05705164], Accuracy: [0.99179578]\n",
            "Epoch: 145, Loss: [0.05647836], Accuracy: [0.99179578]\n",
            "Epoch: 146, Loss: [0.0559197], Accuracy: [0.99179578]\n",
            "Epoch: 147, Loss: [0.0553751], Accuracy: [0.99179578]\n",
            "Epoch: 148, Loss: [0.054844], Accuracy: [0.99179578]\n",
            "Epoch: 149, Loss: [0.05432589], Accuracy: [0.99179578]\n",
            "Epoch: 150, Loss: [0.05382028], Accuracy: [0.99179578]\n",
            "Epoch: 151, Loss: [0.05332669], Accuracy: [0.99179578]\n",
            "Epoch: 152, Loss: [0.05284467], Accuracy: [0.99179578]\n",
            "Epoch: 153, Loss: [0.05237382], Accuracy: [0.99179578]\n",
            "Epoch: 154, Loss: [0.05191372], Accuracy: [0.99179578]\n",
            "Epoch: 155, Loss: [0.05146401], Accuracy: [0.99179578]\n",
            "Epoch: 156, Loss: [0.05102432], Accuracy: [0.99179578]\n",
            "Epoch: 157, Loss: [0.05059432], Accuracy: [0.99179578]\n",
            "Epoch: 158, Loss: [0.05017367], Accuracy: [0.99179578]\n",
            "Epoch: 159, Loss: [0.04976207], Accuracy: [0.99179578]\n",
            "Epoch: 160, Loss: [0.04935921], Accuracy: [0.99179578]\n",
            "Epoch: 161, Loss: [0.04896481], Accuracy: [0.99179578]\n",
            "Epoch: 162, Loss: [0.04857858], Accuracy: [0.99179578]\n",
            "Epoch: 163, Loss: [0.04820029], Accuracy: [0.99179578]\n",
            "Epoch: 164, Loss: [0.04782968], Accuracy: [0.99179578]\n",
            "Epoch: 165, Loss: [0.04746649], Accuracy: [0.99179578]\n",
            "Epoch: 166, Loss: [0.04711052], Accuracy: [0.99179578]\n",
            "Epoch: 167, Loss: [0.04676153], Accuracy: [0.99179578]\n",
            "Epoch: 168, Loss: [0.04641932], Accuracy: [0.99179578]\n",
            "Epoch: 169, Loss: [0.0460837], Accuracy: [0.99179578]\n",
            "Epoch: 170, Loss: [0.04575447], Accuracy: [0.99179578]\n",
            "Epoch: 171, Loss: [0.04543145], Accuracy: [0.99179578]\n",
            "Epoch: 172, Loss: [0.04511445], Accuracy: [0.99179578]\n",
            "Epoch: 173, Loss: [0.04480333], Accuracy: [0.99179578]\n",
            "Epoch: 174, Loss: [0.04449789], Accuracy: [0.99179578]\n",
            "Epoch: 175, Loss: [0.044198], Accuracy: [0.99179578]\n",
            "Epoch: 176, Loss: [0.04390349], Accuracy: [0.99179578]\n",
            "Epoch: 177, Loss: [0.04361424], Accuracy: [0.99179578]\n",
            "Epoch: 178, Loss: [0.0433301], Accuracy: [0.99179578]\n",
            "Epoch: 179, Loss: [0.04305094], Accuracy: [0.99179578]\n",
            "Epoch: 180, Loss: [0.04277661], Accuracy: [0.99179578]\n",
            "Epoch: 181, Loss: [0.04250701], Accuracy: [0.99179578]\n",
            "Epoch: 182, Loss: [0.04224201], Accuracy: [0.99179578]\n",
            "Epoch: 183, Loss: [0.0419815], Accuracy: [0.99179578]\n",
            "Epoch: 184, Loss: [0.04172535], Accuracy: [0.99179578]\n",
            "Epoch: 185, Loss: [0.04147347], Accuracy: [0.99179578]\n",
            "Epoch: 186, Loss: [0.04122575], Accuracy: [0.99179578]\n",
            "Epoch: 187, Loss: [0.04098209], Accuracy: [0.99088424]\n",
            "Epoch: 188, Loss: [0.0407424], Accuracy: [0.99088424]\n",
            "Epoch: 189, Loss: [0.04050658], Accuracy: [0.99088424]\n",
            "Epoch: 190, Loss: [0.04027453], Accuracy: [0.99088424]\n",
            "Epoch: 191, Loss: [0.04004617], Accuracy: [0.99088424]\n",
            "Epoch: 192, Loss: [0.03982142], Accuracy: [0.98997265]\n",
            "Epoch: 193, Loss: [0.03960019], Accuracy: [0.98997265]\n",
            "Epoch: 194, Loss: [0.0393824], Accuracy: [0.98997265]\n",
            "Epoch: 195, Loss: [0.03916798], Accuracy: [0.98997265]\n",
            "Epoch: 196, Loss: [0.03895685], Accuracy: [0.98997265]\n",
            "Epoch: 197, Loss: [0.03874893], Accuracy: [0.98997265]\n",
            "Epoch: 198, Loss: [0.03854416], Accuracy: [0.98997265]\n",
            "Epoch: 199, Loss: [0.03834247], Accuracy: [0.98997265]\n",
            "Epoch: 200, Loss: [0.03814379], Accuracy: [0.98997265]\n"
          ]
        }
      ],
      "source": [
        "# Training loop\n",
        "epochs = 200\n",
        "\n",
        "train_loss = np.zeros((epochs,1))\n",
        "train_accuracy = np.zeros((epochs,1))\n",
        "\n",
        "for epoch in range(epochs):\n",
        "    # Forward pass\n",
        "    y_pred = model(x_train)\n",
        "\n",
        "    # Metrics computation\n",
        "    pred_train = (y_pred > 0.5).float()\n",
        "    train_accuracy[epoch] = 1 - torch.sum(abs(pred_train - y_train))/train_num\n",
        "\n",
        "    # Compute the loss\n",
        "    loss = criterion(y_pred, y_train)\n",
        "\n",
        "    train_loss[epoch] = loss.item()\n",
        "\n",
        "    print(f'Epoch: {epoch+1}, Loss: {train_loss[epoch]}, Accuracy: {train_accuracy[epoch]}')\n",
        "\n",
        "    # Backward pass and optimization\n",
        "    optimizer.zero_grad()\n",
        "    loss.backward()\n",
        "    optimizer.step()\n",
        "\n"
      ]
    },
    {
      "cell_type": "code",
      "execution_count": null,
      "metadata": {
        "colab": {
          "base_uri": "https://localhost:8080/",
          "height": 464
        },
        "id": "F3WC36MYusrm",
        "outputId": "336fe36b-82b3-4630-85c1-c53ce815fd10"
      },
      "outputs": [
        {
          "output_type": "display_data",
          "data": {
            "text/plain": [
              "<Figure size 640x480 with 2 Axes>"
            ],
            "image/png": "[encoded data removed]"
          },
          "metadata": {}
        }
      ],
      "source": [
        "plt.subplot(1, 2, 1)\n",
        "plt.plot(train_loss)\n",
        "plt.grid()\n",
        "plt.xlabel('iterations')\n",
        "plt.ylabel('Loss')\n",
        "\n",
        "plt.subplot(1, 2, 2)\n",
        "plt.plot(train_accuracy)\n",
        "plt.grid()\n",
        "plt.xlabel('iterations')\n",
        "plt.ylabel('Accuracy')\n",
        "\n",
        "plt.subplots_adjust(left=0,\n",
        "                    bottom=0.1,\n",
        "                    right=1.5,\n",
        "                    top=0.9,\n",
        "                    wspace=0.2,\n",
        "                    hspace=0.2)\n",
        "\n",
        "plt.show()"
      ]
    },
    {
      "cell_type": "code",
      "execution_count": null,
      "metadata": {
        "colab": {
          "base_uri": "https://localhost:8080/"
        },
        "id": "zQP1QAV3usrm",
        "outputId": "1b831b9e-220d-419b-b740-e078695746fb"
      },
      "outputs": [
        {
          "output_type": "stream",
          "name": "stdout",
          "text": [
            "0.9674057364463806\n"
          ]
        }
      ],
      "source": [
        "# Testing the model\n",
        "y_test_pred = model(x_test)\n",
        "\n",
        "# Metrics computation\n",
        "pred_test = (y_test_pred > 0.5).float()\n",
        "test_accuracy = 1 - torch.sum(abs(y_test_pred - y_test))/test_num\n",
        "\n",
        "print(test_accuracy.item())"
      ]
    },
    {
      "cell_type": "code",
      "execution_count": null,
      "metadata": {
        "id": "CNBLdscausrn"
      },
      "outputs": [],
      "source": []
    }
  ],
  "metadata": {
    "kernelspec": {
      "display_name": "Python 3 (ipykernel)",
      "language": "python",
      "name": "python3"
    },
    "language_info": {
      "codemirror_mode": {
        "name": "ipython",
        "version": 3
      },
      "file_extension": ".py",
      "mimetype": "text/x-python",
      "name": "python",
      "nbconvert_exporter": "python",
      "pygments_lexer": "ipython3",
      "version": "3.12.4"
    },
    "colab": {
      "provenance": [],
      "include_colab_link": true
    }
  },
  "nbformat": 4,
  "nbformat_minor": 0
}